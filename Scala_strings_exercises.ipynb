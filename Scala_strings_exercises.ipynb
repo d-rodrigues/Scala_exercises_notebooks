{
 "cells": [
  {
   "cell_type": "markdown",
   "metadata": {},
   "source": [
    "# Scala Lists Exercises"
   ]
  },
  {
   "cell_type": "markdown",
   "metadata": {},
   "source": [
    "**Note:** *If you wish, you can insert each answer and test cases in the template bellow and save each solution in a separate .scala file.*"
   ]
  },
  {
   "cell_type": "code",
   "execution_count": null,
   "metadata": {},
   "outputs": [],
   "source": [
    "/* Paste the solution inside the object and use the main function to test the solutions.\n",
    "    \n",
    "Do not forget to change the name of the object acordingly!!\n",
    "\n",
    "object SolutuionP01 {\n",
    "    // Your solution here\n",
    "\n",
    "    def main(args: Array[String]): Unit = {\n",
    "    // Your print statements here\n",
    "    \n",
    "    } \n",
    "}*/\n"
   ]
  },
  {
   "cell_type": "markdown",
   "metadata": {},
   "source": [
    "**P01:** Write a Scala program to get the character at the given index within a given String. Also print the length of the string."
   ]
  },
  {
   "cell_type": "markdown",
   "metadata": {},
   "source": [
    "Sample Output:\n",
    "\n",
    "Original String = Scala Exercises!\n",
    "\n",
    "The character at position 0 is S\n",
    "\n",
    "The character at position 10 is c\n",
    "\n",
    "The character at position 15 is !\n",
    "\n",
    "Length of the string: 16"
   ]
  },
  {
   "cell_type": "markdown",
   "metadata": {},
   "source": [
    "Solutions:"
   ]
  },
  {
   "cell_type": "code",
   "execution_count": 2,
   "metadata": {},
   "outputs": [
    {
     "name": "stdout",
     "output_type": "stream",
     "text": [
      "Original String = ABC\n",
      "The character at position 2 is C\n",
      "Length of the string: 3\n"
     ]
    },
    {
     "data": {
      "text/plain": [
       "getPositionOfChar: (str: String, charIndx: Int)Unit\n"
      ]
     },
     "execution_count": 2,
     "metadata": {},
     "output_type": "execute_result"
    }
   ],
   "source": [
    "// Using .charAt(indx) and .toString() \n",
    "def getPositionOfChar(str: String, charIndx: Int): Unit = {\n",
    "    println(\"Original String = \" + str)\n",
    "    println(\"The character at position \" + charIndx.toString + \" is \" + str.charAt(charIndx))\n",
    "    println(\"Length of the string: \" + str.length.toString)\n",
    "}\n",
    "\n",
    "getPositionOfChar(\"ABC\", 2)"
   ]
  },
  {
   "cell_type": "markdown",
   "metadata": {},
   "source": [
    "**P02:** Write a Scala program to get the character (Unicode code point) at the given index within the String."
   ]
  },
  {
   "cell_type": "markdown",
   "metadata": {},
   "source": [
    "Sample Output:\n",
    "Original String: ABC\n",
    "Position Chosen: 2\n",
    "Character Unicode point: 6"
   ]
  },
  {
   "cell_type": "markdown",
   "metadata": {},
   "source": [
    "Solutions:"
   ]
  },
  {
   "cell_type": "code",
   "execution_count": 11,
   "metadata": {},
   "outputs": [
    {
     "name": "stdout",
     "output_type": "stream",
     "text": [
      "Original String: ABC\n",
      "Position Chosen: 2\n",
      "Character Unicode point: 67\n"
     ]
    },
    {
     "data": {
      "text/plain": [
       "getCharUnicode: (str: String, indx: Int)String\n"
      ]
     },
     "execution_count": 11,
     "metadata": {},
     "output_type": "execute_result"
    }
   ],
   "source": [
    "def getCharUnicode(str: String, indx: Int): String = {\n",
    "    val charCP: Int = str.codePointAt(indx)\n",
    "    \n",
    "    (\"Original String: \" + str + \"\\n\"\n",
    "    +\"Position Chosen: \" + indx.toString + \"\\n\"\n",
    "    +s\"Character Unicode point: $charCP\")\n",
    "\n",
    "}\n",
    "\n",
    "println(getCharUnicode(\"ABC\", 2))"
   ]
  },
  {
   "cell_type": "markdown",
   "metadata": {},
   "source": [
    "**P03:** Write a Scala program to compare two strings lexicographically.\n",
    "\n",
    "**Note:** *Two strings are lexicographically equal if they are the same length and contain the same characters in the same positions*"
   ]
  },
  {
   "cell_type": "raw",
   "metadata": {},
   "source": [
    "Sample Output:\n",
    "String 1: This is Exercise 1\n",
    "String 2: This is Exercise 2\n",
    "\"This is Exercise 1\" is less than \"This is Exercise 2\"\n",
    "========================\n",
    "String 1: This is Exercise 1\n",
    "String 2: This is Exercise 1\n",
    "\"This is Exercise 1\" is equal to \"This is Exercise 1\"\n",
    "========================\n",
    "String 1: This is Blacky\n",
    "String 2: This is Black\n",
    "\"This is Blacky\" is greater than \"This is Black\""
   ]
  },
  {
   "cell_type": "markdown",
   "metadata": {},
   "source": [
    "Solutions:"
   ]
  },
  {
   "cell_type": "code",
   "execution_count": 6,
   "metadata": {},
   "outputs": [
    {
     "name": "stdout",
     "output_type": "stream",
     "text": [
      "\"AB\" is equal to \"AB\"\n",
      "\"A\" is less than \"AB\"\n",
      "\"AB\" is greater than \"A\"\n"
     ]
    },
    {
     "data": {
      "text/plain": [
       "compareStrings: (str1: String, str2: String)String\n"
      ]
     },
     "execution_count": 6,
     "metadata": {},
     "output_type": "execute_result"
    }
   ],
   "source": [
    "// Solution 1 - using str1.compareTo(str2)\n",
    "def compareStrings(str1: String, str2: String): String = {\n",
    "    val charsMatching: Int = str1.compareTo(str2)\n",
    "    if (charsMatching == 0) {\n",
    "        (\"\\\"\"+ str1 + \"\\\"\" + \" is equal to \"+ \"\\\"\" + str2 + \"\\\"\" )\n",
    "    }\n",
    "    else if (charsMatching < 0) {\n",
    "        (\"\\\"\" + str1 + \"\\\"\" + \" is less than \" + \"\\\"\"+ str2 +\"\\\"\" )\n",
    "    }\n",
    "    else {\n",
    "        (\"\\\"\" + str1 + \"\\\"\" + \" is greater than \"+ \"\\\"\"+ str2 +\"\\\"\" )\n",
    "    }\n",
    "\n",
    "    // if (str1.length < str2.length) println(str1 + \" is smaller than \" + str2)\n",
    "    // else (str1.length > str2.length) println(str1 + \" is greater than \" + str2)\n",
    "}\n",
    "\n",
    "println(compareStrings(\"AB\", \"AB\"))\n",
    "println(compareStrings(\"A\", \"AB\"))\n",
    "println(compareStrings(\"AB\", \"A\"))\n"
   ]
  },
  {
   "cell_type": "code",
   "execution_count": 7,
   "metadata": {},
   "outputs": [
    {
     "name": "stdout",
     "output_type": "stream",
     "text": [
      "\"AB\" is equal to \"AB\"\n",
      "\"A\" is less than \"AB\"\n",
      "\"AB\" is greater than \"A\"\n"
     ]
    },
    {
     "data": {
      "text/plain": [
       "compareStrings: (str1: String, str2: String)String\n"
      ]
     },
     "execution_count": 7,
     "metadata": {},
     "output_type": "execute_result"
    }
   ],
   "source": [
    "// Solution 2 - using string equality \"==\"\n",
    "def compareStrings(str1: String, str2: String): String = {\n",
    "    val charsMatching: Int = str1.compareTo(str2)\n",
    "    if (str1 == str2) {\n",
    "        (\"\\\"\"+ str1 + \"\\\"\" + \" is equal to \"+ \"\\\"\" + str2 + \"\\\"\" )\n",
    "    }\n",
    "    else if (str1.length < str2.length) {\n",
    "        (\"\\\"\" + str1 + \"\\\"\" + \" is less than \" + \"\\\"\"+ str2 +\"\\\"\" )\n",
    "    }\n",
    "    else {\n",
    "        (\"\\\"\" + str1 + \"\\\"\" + \" is greater than \"+ \"\\\"\"+ str2 +\"\\\"\" )\n",
    "    }\n",
    "\n",
    "    // if (str1.length < str2.length) println(str1 + \" is smaller than \" + str2)\n",
    "    // else (str1.length > str2.length) println(str1 + \" is greater than \" + str2)\n",
    "}\n",
    "\n",
    "println(compareStrings(\"AB\", \"AB\"))\n",
    "println(compareStrings(\"A\", \"AB\"))\n",
    "println(compareStrings(\"AB\", \"A\"))"
   ]
  },
  {
   "cell_type": "markdown",
   "metadata": {},
   "source": [
    "**P04:** Write a Scala program to concatenate a given string to the end of another string."
   ]
  },
  {
   "cell_type": "raw",
   "metadata": {},
   "source": [
    "Sample Output:\n",
    "Original strings:\n",
    "String 1: Scala Exercises and \n",
    "String 2: Python Exercises\n",
    "The concatenated string: Scala Exercises and Python Exercises"
   ]
  },
  {
   "cell_type": "markdown",
   "metadata": {},
   "source": [
    "Solutions:"
   ]
  },
  {
   "cell_type": "code",
   "execution_count": null,
   "metadata": {},
   "outputs": [],
   "source": []
  },
  {
   "cell_type": "markdown",
   "metadata": {},
   "source": [
    "P05: Write a Scala program to test if a given string contains the specified sequence of char values. Go to the editor"
   ]
  },
  {
   "cell_type": "raw",
   "metadata": {},
   "source": [
    "\n",
    "Sample Output:\n",
    "Original String: Scala Exercises and Python Exercises\n",
    "Specified sequence of char values: and\n",
    "Test if the said string contains the specified sequence of char values!\n",
    "true\n",
    "Original String: Scala Exercises and PHP Exercises\n",
    "Specified sequence of char values: Python\n",
    "Test if the said string contains the specified sequence of char values!\n",
    "false\n"
   ]
  },
  {
   "cell_type": "markdown",
   "metadata": {},
   "source": [
    "6. Write a Scala program to create a new String object with the contents of a character array. Go to the editor\n",
    "\n",
    "Sample Output:\n",
    "The book contains 345 pages.\n"
   ]
  },
  {
   "cell_type": "markdown",
   "metadata": {},
   "source": [
    "7. Write a Scala program to check whether a given string ends with the contents of another string. Go to the editor\n",
    "\n",
    "Sample Output:\n",
    "\"Python Exercises\" ends with \"se\"? false\n",
    "\"Python Exercise\" ends with \"se\"? true"
   ]
  },
  {
   "cell_type": "markdown",
   "metadata": {},
   "source": [
    "8. Write a Scala program to check whether two String objects contain the same data. Go to the editor\n",
    "\n",
    "Sample Output:\n",
    "\"Stephen Edwin King\" equals \"Stephen Edwin  King\"? false\n",
    "\"Stephen Edwin King\" equals \"Stephen Edwin King\"? true"
   ]
  },
  {
   "cell_type": "markdown",
   "metadata": {},
   "source": [
    "\n",
    "9. Write a Scala program to compare a given string to another string, ignoring case considerations. Go to the editor\n",
    "\n",
    "Sample Output:\n",
    "\"Stephen Edwin King\" equals \"Stephen Edwin  King\"? false\n",
    "\"Stephen Edwin King\" equals \"Stephen edwin king\"? true"
   ]
  },
  {
   "cell_type": "markdown",
   "metadata": {},
   "source": [
    "\n",
    "10. Write a Scala program to replace a specified character with another character. Go to the editor\n",
    "\n",
    "Sample Output:\n",
    "Original string: The quick brown fox jumps over the lazy dog.\n",
    "New String: The quick brown fox jumps over the lazy fog.\n"
   ]
  },
  {
   "cell_type": "markdown",
   "metadata": {},
   "source": [
    "11. Write a Scala program to get a substring of a given string between two specified positions. Go to the editor\n",
    "\n",
    "Sample Output:\n",
    "Original = The quick brown fox jumps over the lazy dog.\n",
    "From said string, substring between two positions (10,26) = brown fox jumps "
   ]
  },
  {
   "cell_type": "markdown",
   "metadata": {},
   "source": [
    "\n",
    "12. Write a Scala program to convert all the characters to lowercase, uppercase strings. Go to the editor\n",
    "\n",
    "Sample Output:\n",
    "Original String: The Quick BroWn FoX!\n",
    "String in lowercase: the quick brown fox!\n",
    "String in uppercase: THE QUICK BROWN FOX!"
   ]
  },
  {
   "cell_type": "markdown",
   "metadata": {},
   "source": [
    "13. Write a Scala program to trim any leading or trailing whitespace from a given string. Go to the editor\n",
    "\n",
    "Sample Output:\n",
    "Original String:- Scala Exercises \n",
    "New String:-Scala Exercises"
   ]
  },
  {
   "cell_type": "markdown",
   "metadata": {},
   "source": [
    "14. Write a Scala program to print after removing duplicates from a given string. Go to the editor\n",
    "\n",
    "Sample Output:\n",
    "The given string is: w3resource\n",
    "After removing duplicates characters the new string is: w3resouc\n",
    "The given string is: Scala\n",
    "After removing duplicates characters the new string is: Scal\n",
    "The given string is: 2q34u923u4928402\n",
    "After removing duplicates characters the new string is: 2q34u980"
   ]
  },
  {
   "cell_type": "markdown",
   "metadata": {},
   "source": [
    "\n",
    "15. Write a Scala program to find the maximum occurring character in a string. Go to the editor\n",
    "Sample Output:\n",
    "The given string is: test string\n",
    "Maximum occurring character of the said string is: t\n",
    "The given string is: Scala\n",
    "Maximum occurring character of the said string is: a"
   ]
  },
  {
   "cell_type": "markdown",
   "metadata": {},
   "source": [
    "16. Write a Scala program to reverse every word in a given string. Go to the editor\n",
    "Sample Output:\n",
    "The given string is: This is a test string\n",
    "The new string after reversed the words: sihT si a tset gnirts \n",
    "The given string is: The Scala Programming Language\n",
    "The new string after reversed the words: ehT alacS gnimmargorP egaugnaL"
   ]
  },
  {
   "cell_type": "markdown",
   "metadata": {},
   "source": [
    "17. Write a Scala program to count and print all the duplicates in the input string. Go to the editor\n",
    "Sample Output:\n",
    "The given string is: w3resource\n",
    "The duplicate characters and counts are: \n",
    "e  appears  2  times\n",
    "r  appears  2  times\n",
    "The given string is: The Scala Programming Language\n",
    "The duplicate characters and counts are: \n",
    "   appears  3  times\n",
    "a  appears  5  times\n",
    "e  appears  2  times\n",
    "g  appears  4  times\n",
    "m  appears  2  times\n",
    "n  appears  2  times\n",
    "r  appears  2  times\n"
   ]
  },
  {
   "cell_type": "markdown",
   "metadata": {},
   "source": [
    "18. Write a Scala program to check if two given strings are rotations of each other. Go to the editor\n",
    "Sample Output:\n",
    "The given strings are: ABACD  and  CDABA\n",
    "The concatination of 1st string twice is: ABACDABACD\n",
    "The 2nd string CDABA  exists in the new string.\n",
    "Strings are rotations of each other"
   ]
  },
  {
   "cell_type": "markdown",
   "metadata": {},
   "source": [
    "19. Write a Scala program to append two given strings such that, if the concatenation creates double characters then omit one of the characters. Go to the editor\n",
    "Sample Output:\n",
    "The given strings are: food  and  door\n",
    "The string after concatination are: foodoor"
   ]
  },
  {
   "cell_type": "markdown",
   "metadata": {},
   "source": [
    "20. Write a Scala program to create a new string from a given string swapping the last two characters of the given string. The length of the given string must be two or more. Go to the editor\n",
    "Sample Output:\n",
    "The given strings is: String\n",
    "The string after swap last two characters are: Strign\n",
    "The given strings is: Scala\n",
    "The string after swap last two characters are: Scaal"
   ]
  },
  {
   "cell_type": "markdown",
   "metadata": {},
   "source": [
    "\n",
    "21. Write a Scala program to read a string and return true if it ends with a specified string of length 2. Go to the editor\n",
    "Sample Output:\n",
    "The given strings is: String\n",
    "The string containing ng at last: true\n",
    "The given strings is: String\n",
    "The string containing gn at last: false"
   ]
  },
  {
   "cell_type": "markdown",
   "metadata": {},
   "source": [
    "\n",
    "22. Write a Scala program to read two strings append them together and return the result. If the length of the strings is different remove characters from the beginning of longer string and make them equal length. Go to the editor\n",
    "Sample Output:\n",
    "The given strings is: Welcome and home\n",
    "The new string is: comehome\n",
    "The given strings is: Scala and Python\n",
    "The new string is: Scalaython"
   ]
  },
  {
   "cell_type": "markdown",
   "metadata": {},
   "source": [
    "\n",
    "23. Write a Java program to create a new string taking specified number of characters from first and last position of a given string. Go to the editor\n",
    "Sample Output:\n",
    "The given strings is: Welcome\n",
    "The given numbers is: 3\n",
    "The new string is: Welome\n",
    "The given strings is: Scala Programming\n",
    "The given numbers is: 4\n",
    "The new string is: Scalming\n"
   ]
  },
  {
   "cell_type": "markdown",
   "metadata": {},
   "source": [
    "\n",
    "24. Write a Scala program to check whether the first two characters present at the end of a given string. Go to the editor\n",
    "Sample Output:\n",
    "The given strings is: educated\n",
    "If first two characters appear in the last! true\n",
    "The given strings is: ABCDEFBA\n",
    "If first two characters appear in the last! false"
   ]
  },
  {
   "cell_type": "markdown",
   "metadata": {},
   "source": [
    "25. Write a Scala program to read a given string and if the first or last characters are same return the string without those characters otherwise return the string unchanged. Go to the editor\n",
    "Sample Output:\n",
    "The given strings is: testcricket\n",
    "The new string is: estcricke\n",
    "The given strings is: testcricket\n",
    "The new string is: testcricket"
   ]
  },
  {
   "cell_type": "markdown",
   "metadata": {},
   "source": [
    "26. Write a Scala program to read a string and return the string without the first two characters. Keep the first char if it is 'g' and keep the second char if it is 'h'. Go to the editor\n",
    "Sample Output:\n",
    "The given strings is: ghost\n",
    "The new string is: ghost\n",
    "The given strings is: photo\n",
    "The new string is: hoto\n",
    "The given strings is: goat\n",
    "The new string is: gat"
   ]
  },
  {
   "cell_type": "markdown",
   "metadata": {},
   "source": [
    "27. Write a Scala program to read a string and if one or both of the first two characters is equal to specified character return without those characters otherwise return the string unchanged. Go to the editor\n",
    "Sample Output:\n",
    "The given strings is: aacyte, specified character is: a\n",
    "The new string is: cyte\n",
    "The given strings is: bacyte, specified character is: a\n",
    "The new string is: bcyte\n",
    "The given strings is: bbacyte, specified character is: a\n",
    "The new string is: bbacyte\n"
   ]
  },
  {
   "cell_type": "markdown",
   "metadata": {},
   "source": [
    "28. Write a Scala program to read a string and returns after remove a specified character and its immediate left and right characters. Go to the editor\n",
    "Sample Output:\n",
    "The given strings is: test#string\n",
    "The new string is: testring\n",
    "The given strings is: sdf$#gyhj#\n",
    "The new string is: sdgyhj#"
   ]
  },
  {
   "cell_type": "markdown",
   "metadata": {},
   "source": [
    "29. Write a Scala program to check two given strings whether any one of them appear at the end of the other string (ignore case sensitivity). Go to the editor\n",
    "Sample Output:\n",
    "The given strings are: pqrxyz  and xyz\n",
    "Is one string appears at the end of other? true\n",
    "The given strings are: pqrxyz  and rxy\n",
    "Is one string appears at the end of other? false"
   ]
  },
  {
   "cell_type": "markdown",
   "metadata": {},
   "source": [
    "30. Write a Scala program to check whether a substring appears before a period(.) within a given string. Go to the editor\n",
    "Sample Output:\n",
    "The given string is: testabc.test\n",
    "Is abc appear before a period in the said string? true\n",
    "The given string is: test.abctest\n",
    "Is abc appear before a period in the said string? false"
   ]
  },
  {
   "cell_type": "markdown",
   "metadata": {},
   "source": [
    "31. Write a Scala program to check whether a prefix string creates using the first specific characters in a given string appears somewhere else in the string. Go to the editor\n",
    "Sample Output:\n",
    "The given string is: MrsJemsMrsam\n",
    "The prefix string length is: 3\n",
    "Is 'Mrs' appear else where in the string? true\n",
    "The given string is: MrJemsam\n",
    "The prefix string length is: 2\n",
    "Is 'Mr' appear else where in the string? false"
   ]
  },
  {
   "cell_type": "markdown",
   "metadata": {},
   "source": [
    "32. Write a Scala program to check whether a given substring presents in the middle of another given string. Here middle means difference between the number of characters to the left and right of the given substring not more than 1. Go to the editor\n",
    "Sample Output:\n",
    "The given string is: wwabcwww\n",
    "Is abc appear in middle? true\n",
    "The given string is: wwwabcwww\n",
    "Is abc appear in middle? true\n",
    "The given string is: wwwwabcwww\n",
    "Is abc appear in middle? true\n",
    "The given string is: wwwwwabcwww\n",
    "Is abc appear in middle? false\n"
   ]
  },
  {
   "cell_type": "markdown",
   "metadata": {},
   "source": [
    "33. Write a Scala program to count how many times the substring 'life' present at anywhere in a given string. Counting can also happen for the substring 'li?e',any character instead of 'f'. Go to the editor\n",
    "Sample Output:\n",
    "The given string is: live on wild life\n",
    "The substring life or li?e appear number of times: 2\n"
   ]
  },
  {
   "cell_type": "markdown",
   "metadata": {},
   "source": [
    "\n",
    "34. Write a Scala program to add a string with specific number of times separated by a substring. Go to the editor\n",
    "Sample Output:\n",
    "The given strings are: try  and  best\n",
    "Number to times to be repeat: 3\n",
    "The new string is: trybesttrybesttry"
   ]
  },
  {
   "cell_type": "markdown",
   "metadata": {},
   "source": [
    "35. Write a Scala program to repeat a specific number of characters for specific number of times from the last part of a given string. Go to the editor\n",
    "Sample Output:\n",
    "The given string is: string\n",
    "The new string after repetition: inginging"
   ]
  },
  {
   "cell_type": "markdown",
   "metadata": {},
   "source": [
    "36. Write a Scala program to create a new string from a given string after removing the 2nd character from the substring of length three starting with 'z' and ending with 'g' presents in the said string. Go to the editor\n",
    "Sample Output:\n",
    "The given string is: zzgkitandkatcaketoket\n",
    "The new string is: zgkitandkatcaketoket\n",
    "The given string is: kitandkazzgtcaketoket\n",
    "The new string is: kitandkazgtcaketoket\n",
    "The given string is: kitandkatcaketoketzzg\n",
    "The new string is: kitandkatcaketoketzg\n"
   ]
  },
  {
   "cell_type": "markdown",
   "metadata": {},
   "source": [
    "\n",
    "37. Write a Scala program to check whether the character immediately before and after a specified character is same in a given string. Go to the editor\n",
    "Sample Output:\n",
    "The given string is: moon#night and the specified character is: #\n",
    "The before and after # both characters are same in the said string: true\n",
    "The given string is:  bat#$#ball and the specified character is: $\n",
    "The before and after $ both characters are same in the said string: true\n",
    "The given string is:  bat#$ball and the specified character is: $\n",
    "The before and after $ both characters are same in the said string: false"
   ]
  },
  {
   "cell_type": "markdown",
   "metadata": {},
   "source": [
    "38. Write a Java program to check whether two strings of length 3 and 4 appear in same number of times in a given string. Go to the editor\n",
    "Sample Output:\n",
    "The original string is: redcapmanwithbluecar\n",
    "Searched strings are: blue,red\n",
    "The appearance of red and blue are same: true\n",
    "The original string is: redcapmanwithbluecarblue\n",
    "Searched strings are: blue,red\n",
    "The appearance of red and blue are same: false"
   ]
  },
  {
   "cell_type": "markdown",
   "metadata": {},
   "source": [
    "\n",
    "39. Write a Scala program to create a new string repeating every character twice of a given string. Go to the editor\n",
    "Sample Output:\n",
    "The given string is: welcome\n",
    "The new string is: wweellccoommee\n"
   ]
  },
  {
   "cell_type": "markdown",
   "metadata": {},
   "source": [
    "40. Write a Scala program to make a new string from two given string in such a way that, each character of two string will come respectively. Go to the editor\n",
    "Sample Output:\n",
    "The given strings  are: welcome  and  w3resource\n",
    "The new string is: wwe3lrceosmoeurce\n"
   ]
  },
  {
   "cell_type": "markdown",
   "metadata": {},
   "source": [
    "41. Write a Scala program to make a new string made of p number of characters from the first of a given string and followed by p-1 number characters till the p is greater than zero. Go to the editor\n",
    "Sample Output:\n",
    "The given string is: welcome\n",
    "Number of repetition characters and repetition: 4\n",
    "The new string is: welcwelwew"
   ]
  },
  {
   "cell_type": "markdown",
   "metadata": {},
   "source": [
    "\n",
    "42. Write a Scala program to make a new string with each character of just before and after of a non-empty substring whichever it appears in a non-empty given string. Go to the editor\n",
    "Sample Output:\n",
    "The given string are: weablcoabmeab  and ab\n",
    "The new string is: elome"
   ]
  },
  {
   "cell_type": "markdown",
   "metadata": {},
   "source": [
    "43. Write a Scala program to count the number of triples (characters appearing three times in a row) in a given string. Go to the editor\n",
    "Sample Output:\n",
    "The given string is: welllcommmmeee\n",
    "The number of triples in the string is: 4"
   ]
  },
  {
   "cell_type": "markdown",
   "metadata": {},
   "source": [
    "44. Write a Scala program to check whether a specified character is happy or not. A character is happy when the same character appears to its left or right in a string. Go to the editor\n",
    "Sample Output:\n",
    "The given string is: azzlea\n",
    "Is z happy in the said string: true\n",
    "The given string is: abcfdkefg\n",
    "Is f happy in the said string: false"
   ]
  },
  {
   "cell_type": "markdown",
   "metadata": {},
   "source": [
    "45. Write a Scala program to calculate the sum of the numbers appear in a given string. Go to the editor\n",
    "Sample Output:\n",
    "The given string is: it 15 is25 a 20string\n",
    "The sum of the numbers in the said string is: 60"
   ]
  },
  {
   "cell_type": "markdown",
   "metadata": {},
   "source": [
    "\n",
    "46. Write a Java program to check the number of appearances of the two substrings appear anywhere in the string. Go to the editor\n",
    "Sample Output:\n",
    "The given string is: Thisisthethesis\n",
    "Are the appearance of 'the' and 'is' equal? false\n",
    "The given string is: Thisisthethes\n",
    "Are the appearance of 'the' and 'is' equal? true"
   ]
  },
  {
   "cell_type": "code",
   "execution_count": null,
   "metadata": {},
   "outputs": [],
   "source": [
    "\n",
    "// Solution - ListsProblem 46\n",
    "\n",
    "/* Paste the solution inside the object and use the main function to test the solutions.\n",
    "\n",
    "object Problem46 {\n",
    "    // Your code here\n",
    "\n",
    "     def main(args: Array[String]): Unit = {\n",
    "    }\n",
    "}*/\n"
   ]
  }
 ],
 "metadata": {
  "kernelspec": {
   "display_name": "spylon-kernel",
   "language": "scala",
   "name": "spylon-kernel"
  },
  "language_info": {
   "codemirror_mode": "text/x-scala",
   "file_extension": ".scala",
   "help_links": [
    {
     "text": "MetaKernel Magics",
     "url": "https://metakernel.readthedocs.io/en/latest/source/README.html"
    }
   ],
   "mimetype": "text/x-scala",
   "name": "scala",
   "pygments_lexer": "scala",
   "version": "0.4.1"
  }
 },
 "nbformat": 4,
 "nbformat_minor": 2
}
