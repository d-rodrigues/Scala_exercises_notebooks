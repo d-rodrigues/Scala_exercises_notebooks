{
 "cells": [
  {
   "cell_type": "markdown",
   "metadata": {},
   "source": [
    "# Scala Basic Exercises\n",
    "## Strings, String methods, Numbers and Operators"
   ]
  },
  {
   "cell_type": "code",
   "execution_count": 90,
   "metadata": {},
   "outputs": [],
   "source": [
    "%%python\n",
    "from IPython.core.interactiveshell import InteractiveShell\n",
    "InteractiveShell.ast_node_interactivity = \"all\""
   ]
  },
  {
   "cell_type": "markdown",
   "metadata": {},
   "source": [
    "## Problem 1 (Hello World) -  Write a Scala program to print \"Hello, world\" and version of the Scala language. "
   ]
  },
  {
   "cell_type": "code",
   "execution_count": 2,
   "metadata": {},
   "outputs": [
    {
     "data": {
      "text/plain": "Intitializing Scala interpreter ..."
     },
     "metadata": {},
     "output_type": "display_data"
    },
    {
     "data": {
      "text/plain": "Spark Web UI available at http://192.168.20.42:4042\nSparkContext available as 'sc' (version = 3.0.1, master = local[*], app id = local-1610984441433)\nSparkSession available as 'spark'\n"
     },
     "metadata": {},
     "output_type": "display_data"
    },
    {
     "name": "stdout",
     "output_type": "stream",
     "text": [
      "Hello World!!!\n",
      "Scala language: version 2.12.10\n",
      "lol\n"
     ]
    }
   ],
   "source": [
    "// Solution - Problem 1\n",
    "\n",
    "/* Paste the solution inside the object and use the main function to test the solutions.\n",
    "\n",
    "object Problem1 {\n",
    "    // Your code here\n",
    "\n",
    "    def main(args: Array[String]): Unit = {\n",
    "        \n",
    "    } \n",
    "}\n",
    "*/\n",
    "\n",
    "\n",
    "println(\"Hello World!!!\")\n",
    "println(\"Scala language: \" +util.Properties.versionString)\n",
    "println(\"lol\")\n"
   ]
  },
  {
   "cell_type": "markdown",
   "metadata": {},
   "source": [
    "## Problem 2 (Numbers and if-statements) - Write a Scala program to compute the sum of the two given integer values. If the two values are the same, then return triples their sum. \n"
   ]
  },
  {
   "cell_type": "code",
   "execution_count": 3,
   "metadata": {},
   "outputs": [
    {
     "name": "stdout",
     "output_type": "stream",
     "text": [
      "18\n"
     ]
    },
    {
     "data": {
      "text/plain": "test: (x: Int, y: Int)Int\n"
     },
     "execution_count": 3,
     "metadata": {},
     "output_type": "execute_result"
    }
   ],
   "source": [
    "// Solution - Problem 2\n",
    "\n",
    "/*\n",
    " Solution using user input\n",
    "\n",
    "import scala.io.StdIn.readInt\n",
    "\n",
    "object scala_basic {\n",
    "  def test(x:Int, y:Int) : Int =\n",
    "    {\n",
    "        if (x == y) (x + y) * 3 else x + y\n",
    "    }\n",
    "     \n",
    "   def main(args: Array[String]): Unit = {\n",
    "      println(\"first:\")\n",
    "      val first = readInt()\n",
    "      println(\"second:\")\n",
    "      val second = readInt();\n",
    "\n",
    "      println(test(first,second))\n",
    "   }\n",
    "} */\n",
    "\n",
    "def test(x:Int, y:Int) : Int =\n",
    "    {\n",
    "        if (x == y) (x + y) * 3 else x + y\n",
    "    }\n",
    "\n",
    "\n",
    "println(test(3,3))"
   ]
  },
  {
   "cell_type": "markdown",
   "metadata": {},
   "source": [
    "## Problem 3 (Numbers and if-statements) -  Write a Scala program to get the absolute difference between n and 51. If n is greater than 51 return triple the absolute difference. \n"
   ]
  },
  {
   "cell_type": "code",
   "execution_count": 33,
   "metadata": {},
   "outputs": [
    {
     "name": "stdout",
     "output_type": "stream",
     "text": [
      "Result: 30\n",
      "Result: 53\n"
     ]
    },
    {
     "data": {
      "text/plain": "absDiff: (n: Int)Int\n"
     },
     "execution_count": 33,
     "metadata": {},
     "output_type": "execute_result"
    }
   ],
   "source": [
    "// Solution - Problem 3\n",
    "\n",
    "/* Paste the solution inside the object and use the main function to test the solutions.\n",
    "\n",
    "object Problem3 {\n",
    "    def absDiff(n: Int): Int = {\n",
    "        // Your code here\n",
    "    }\n",
    "\n",
    "    def main(args: Array[String]): Unit = {\n",
    "        \n",
    "    }\n",
    "}*/\n",
    "\n",
    "def absDiff(n: Int): Int = {\n",
    "    if (n > 51) 3*Math.abs(n-51) else Math.abs(n-51)\n",
    "}\n",
    "\n",
    "println(\"Result: \" + absDiff(61))\n",
    "println(\"Result: \" + absDiff(-2))"
   ]
  },
  {
   "cell_type": "markdown",
   "metadata": {},
   "source": [
    "## Problem 4 (Number comparisson) -  Write a Scala program to check two given integers, and return true if one of them is 30 or if their sum is 30. "
   ]
  },
  {
   "cell_type": "code",
   "execution_count": 32,
   "metadata": {},
   "outputs": [
    {
     "name": "stdout",
     "output_type": "stream",
     "text": [
      "true\n",
      "true\n",
      "false\n",
      "true\n",
      "false\n"
     ]
    },
    {
     "data": {
      "text/plain": "checkIfThirty: (n: Int, m: Int)Boolean\n"
     },
     "execution_count": 32,
     "metadata": {},
     "output_type": "execute_result"
    }
   ],
   "source": [
    "// Solution - Problem 4\n",
    "\n",
    "/* Paste the solution inside the object and use the main function to test the solutions.\n",
    "\n",
    "object Problem4 {\n",
    "    // Your code here\n",
    "\n",
    "    def main(args: Array[String]): Unit = {\n",
    "       \n",
    "\n",
    "    }\n",
    "} */\n",
    "\n",
    "def checkIfThirty(n: Int, m: Int): Boolean = {\n",
    "    m == 30 || n == 30 || m + n == 30 \n",
    "}\n",
    "\n",
    "println(checkIfThirty(30, 0))\n",
    "println(checkIfThirty(30, 30))\n",
    "println(checkIfThirty(55, 4))\n",
    "println(checkIfThirty(15, 15))\n",
    "println(checkIfThirty(-30, 0))\n"
   ]
  },
  {
   "cell_type": "markdown",
   "metadata": {},
   "source": [
    "## Problem 5 (Number comparisson) - Write a Scala program that returns true if,  given integer \"n\", the number 20 is within the difference of 100 and \"n\" or 300 and \"n\". "
   ]
  },
  {
   "cell_type": "code",
   "execution_count": 31,
   "metadata": {},
   "outputs": [
    {
     "name": "stdout",
     "output_type": "stream",
     "text": [
      "Result: false\n",
      "Result: true\n",
      "Result: false\n",
      "Result: true\n"
     ]
    },
    {
     "data": {
      "text/plain": "checkIfWithin: (n: Int)Boolean\n"
     },
     "execution_count": 31,
     "metadata": {},
     "output_type": "execute_result"
    }
   ],
   "source": [
    "// Solution - Problem 5\n",
    "\n",
    "/*  Paste the solution inside the object and use the main function to test the solutions.\n",
    "\n",
    "object Problem5 {\n",
    "    // Your code here\n",
    "    def checkIfWithin(n: Int): Boolean  = {\n",
    "        Math.abs(100 - n) <=  20 || Math.abs(300 - n) <= 20\n",
    "    }\n",
    "\n",
    "    def main(args: Array[String]): Unit = {\n",
    "\n",
    "    }\n",
    "} */\n",
    "\n",
    "def checkIfWithin(n: Int): Boolean  = {\n",
    "   Math.abs(100 - n) <= 20 || Math.abs(300 - n) <= 20\n",
    "}\n",
    "\n",
    "    \n",
    "println(\"Result: \" + checkIfWithin(10))\n",
    "println(\"Result: \" + checkIfWithin(90))\n",
    "println(\"Result: \" + checkIfWithin(175))\n",
    "println(\"Result: \" + checkIfWithin(293))\n",
    "\n",
    "\n"
   ]
  },
  {
   "cell_type": "markdown",
   "metadata": {},
   "source": [
    "## Problem 6 (Substring Matching) - Write a Scala program to create a new string where 'if' is added to the front of a given string. If the string already begins with 'if', return the string unchanged. "
   ]
  },
  {
   "cell_type": "code",
   "execution_count": 27,
   "metadata": {},
   "outputs": [
    {
     "name": "stdout",
     "output_type": "stream",
     "text": [
      "iflol\n",
      "If I knew this \".startsWith()\" method, I could have saved A LOT of time =/\n"
     ]
    },
    {
     "data": {
      "text/plain": "beginsWithIf: (aString: String)String\n"
     },
     "execution_count": 27,
     "metadata": {},
     "output_type": "execute_result"
    }
   ],
   "source": [
    "// Solution - Problem 6\n",
    "\n",
    "/* Paste the solution inside the object and use the main function to test the solutions.\n",
    "\n",
    "object Problem6 {\n",
    "  // Your code here\n",
    "\n",
    "  def main(args: Arry[String]): Unit ={\n",
    "\n",
    "  } \n",
    "}*/\n",
    "\n",
    "// Solution 1 - using the .startsWith() method\n",
    "def beginsWithIf(aString: String): String = {\n",
    "  if (aString.toLowerCase.startsWith(\"if\")  ) aString else  (\"if\" + aString)\n",
    "\n",
    "}\n",
    "\n",
    "println(beginsWithIf(\"lol\"))\n",
    "println(beginsWithIf(\"If I knew this \\\".startsWith()\\\" method, I could have saved A LOT of time =/\"))\n"
   ]
  },
  {
   "cell_type": "code",
   "execution_count": 29,
   "metadata": {},
   "outputs": [
    {
     "name": "stdout",
     "output_type": "stream",
     "text": [
      "If I had...\n"
     ]
    },
    {
     "data": {
      "text/plain": "checkPattern: (aString: String)String\n"
     },
     "execution_count": 29,
     "metadata": {},
     "output_type": "execute_result"
    }
   ],
   "source": [
    "// Solution 2 - using the \"contains\" keyword\n",
    "def checkPattern(aString: String): String = {\n",
    "    if (aString.toLowerCase() contains \"if\") aString else \"if\" + aString\n",
    "}\n",
    "\n",
    "println(checkPattern(\"If I had...\"))"
   ]
  },
  {
   "cell_type": "markdown",
   "metadata": {},
   "source": [
    "## Problem 7 (String Char Deletion) -  Write a Scala program to remove the character in a given position of a given string. The given position will be in the range 0...string length -1 inclusive. "
   ]
  },
  {
   "cell_type": "code",
   "execution_count": 8,
   "metadata": {},
   "outputs": [
    {
     "name": "stdout",
     "output_type": "stream",
     "text": [
      "lo\n",
      "lol\n",
      "lol\n"
     ]
    },
    {
     "data": {
      "text/plain": "removeChar: (str: String, ind: Int)String\n"
     },
     "execution_count": 8,
     "metadata": {},
     "output_type": "execute_result"
    }
   ],
   "source": [
    "// Solution - Problem 7\n",
    "\n",
    "/* Paste the solution inside the object and use the main function to test the solutions.\n",
    "\n",
    "object Problem7 {\n",
    "    \n",
    "    \n",
    "    def main(args: Arry[String]): Unit ={\n",
    "    \n",
    "    } \n",
    "}*/\n",
    "\n",
    "\n",
    "// Notice that the .take(n) and .drop(n) take as args the numb. of elements (\"n\") that you want to take/drop. \n",
    "// The position starting from 0 (i.e., the index \"i\") tells how many elements come before a given position, hence the choice of indices bellow.\n",
    "\n",
    "def removeChar(str: String, ind: Int): String = {\n",
    "        str.take(ind) + str.drop(ind + 1)\n",
    "}\n",
    "\n",
    "println(removeChar(\"lol\", 2))\n",
    "println(removeChar(\"lol\", 4))\n",
    "println(removeChar(\"lol\", -1))\n"
   ]
  },
  {
   "cell_type": "markdown",
   "metadata": {},
   "source": [
    "## Problem 8 (String Char Replacement) -  Write a Scala program to exchange the first and last characters in a given string and return the new string. "
   ]
  },
  {
   "cell_type": "code",
   "execution_count": 22,
   "metadata": {},
   "outputs": [
    {
     "name": "stdout",
     "output_type": "stream",
     "text": [
      "a\n",
      "cba\n"
     ]
    },
    {
     "data": {
      "text/plain": "swapFirstLast: (str: String)String\n"
     },
     "execution_count": 22,
     "metadata": {},
     "output_type": "execute_result"
    }
   ],
   "source": [
    "// Solution - Problem 8\n",
    "\n",
    "/* Paste the solution inside the object and use the main function to test the solutions.\n",
    "\n",
    "object Problem8 {\n",
    "\n",
    "    \n",
    "    def main(args: Arry[String]): Unit ={\n",
    "    \n",
    "    } \n",
    "}*/\n",
    "\n",
    "// Solution 1 - using .take(n), .drop(n) and .substring(start,stop)\n",
    "def swapFirstLast(str: String):String = {\n",
    "    val takeFirst = str.take(1)\n",
    "    val dropLast  = str.drop(str.length - 1)\n",
    "    if (str.length <= 1) str else (dropLast + str.substring(1, str.length - 1) + takeFirst)\n",
    "} \n",
    "\n",
    "\n",
    "println(swapFirstLast(\"a\"))\n",
    "println(swapFirstLast(\"abc\"))"
   ]
  },
  {
   "cell_type": "code",
   "execution_count": 21,
   "metadata": {},
   "outputs": [
    {
     "name": "stdout",
     "output_type": "stream",
     "text": [
      "a\n",
      "cba\n"
     ]
    },
    {
     "data": {
      "text/plain": "swapFirstLast: (str: String)String\n"
     },
     "execution_count": 21,
     "metadata": {},
     "output_type": "execute_result"
    }
   ],
   "source": [
    "// Solution 2 - using .charAt(n) and .substring(start,stop)\n",
    "def swapFirstLast(str: String): String = {\n",
    "    val length: Int = str.length\n",
    "    if (length <= 1) str else str.charAt(length - 1) + str.substring(1, length - 1) + str.charAt(0)\n",
    "}\n",
    "\n",
    "println(swapFirstLast(\"a\"))\n",
    "println(swapFirstLast(\"abc\"))"
   ]
  },
  {
   "cell_type": "markdown",
   "metadata": {},
   "source": [
    "## Problem 9 (String Char copy) - Write a Scala program to create a new string which is 4 copies of the 2 front characters of a given string. If the given string length is less than 2 return the original string. \n"
   ]
  },
  {
   "cell_type": "code",
   "execution_count": 10,
   "metadata": {},
   "outputs": [
    {
     "name": "stdout",
     "output_type": "stream",
     "text": [
      "abababab\n",
      "a\n"
     ]
    },
    {
     "data": {
      "text/plain": "newString: (str: String)String\n"
     },
     "execution_count": 10,
     "metadata": {},
     "output_type": "execute_result"
    }
   ],
   "source": [
    "// Solution - Problem 9\n",
    "\n",
    "/* Paste the solution inside the object and use the main function to test the solutions.\n",
    "\n",
    "object Problem9 {\n",
    "    \n",
    "    \n",
    "    def main(args: Arry[String]): Unit ={\n",
    "    \n",
    "    } \n",
    "}*/\n",
    "\n",
    "def newString(str: String): String = {\n",
    "    val length: Int = str.length\n",
    "    if (length < 2) str else str.substring(0, 2)*4\n",
    "}\n",
    "\n",
    "println(newString(\"abc\"))\n",
    "println(newString(\"a\"))\n"
   ]
  },
  {
   "cell_type": "markdown",
   "metadata": {},
   "source": [
    "## Problem 10 (String Char copy) - Write a Scala program to create a new string with the last char added at the front and back of a given string of length 1 or more. \n"
   ]
  },
  {
   "cell_type": "code",
   "execution_count": 19,
   "metadata": {},
   "outputs": [
    {
     "name": "stdout",
     "output_type": "stream",
     "text": [
      "cAbcc\n",
      "bAbb\n",
      "AAA\n",
      "\n"
     ]
    },
    {
     "data": {
      "text/plain": "addLastChar: (str: String)String\n"
     },
     "execution_count": 19,
     "metadata": {},
     "output_type": "execute_result"
    }
   ],
   "source": [
    "// Solution - Problem 10\n",
    "\n",
    "\n",
    "/* Paste the solution inside the object and use the main function to test the solutions.\n",
    "\n",
    "object Problem7 {\n",
    "    \n",
    "    \n",
    "    def main(args: Arry[String]): Unit ={\n",
    "    \n",
    "    } \n",
    "}*/\n",
    "\n",
    "// Solution 1 - using .charAt(n) and .substring(start, stop)\n",
    "def addLastChar(str: String): String = {\n",
    "    val length = str.length \n",
    "    if (length <= 1) str*3 else str.charAt(length - 1) + str + str.charAt(length - 1)\n",
    "}\n",
    "\n",
    "println(addLastChar(\"Abc\"))\n",
    "println(addLastChar(\"Ab\"))\n",
    "println(addLastChar(\"A\"))\n",
    "println(addLastChar(\"\"))"
   ]
  },
  {
   "cell_type": "code",
   "execution_count": 20,
   "metadata": {},
   "outputs": [
    {
     "name": "stdout",
     "output_type": "stream",
     "text": [
      "cAbcc\n",
      "bAbb\n",
      "AAA\n",
      "\n"
     ]
    },
    {
     "data": {
      "text/plain": "addLastChar: (str: String)String\n"
     },
     "execution_count": 20,
     "metadata": {},
     "output_type": "execute_result"
    }
   ],
   "source": [
    "// Solution 2 - using .drop(n)\n",
    "def addLastChar(str: String): String = {\n",
    "    val length: Int = str.length \n",
    "    if (length <= 1) str*3 else str.drop(length - 1) + str + str.drop(length - 1)\n",
    "}\n",
    "\n",
    "println(addLastChar(\"Abc\"))\n",
    "println(addLastChar(\"Ab\"))\n",
    "println(addLastChar(\"A\"))\n",
    "println(addLastChar(\"\"))"
   ]
  },
  {
   "cell_type": "markdown",
   "metadata": {},
   "source": [
    "## Problem 11 (Number comparisson) -  Write a Scala program to check whether a given positive number is a multiple of 3 or a multiple of 7. \n"
   ]
  },
  {
   "cell_type": "code",
   "execution_count": 12,
   "metadata": {},
   "outputs": [
    {
     "name": "stdout",
     "output_type": "stream",
     "text": [
      "Choose a positive number!\n",
      "true\n",
      "true\n",
      "false\n"
     ]
    },
    {
     "data": {
      "text/plain": "checkIfMultiple: (num: Int)Any\n"
     },
     "execution_count": 12,
     "metadata": {},
     "output_type": "execute_result"
    }
   ],
   "source": [
    "// Solution - Problem 11\n",
    "\n",
    "/* Paste the solution inside the object and use the main function to test the solutions.\n",
    "\n",
    "object Problem11 {\n",
    "    \n",
    "    \n",
    "    def main(args: Arry[String]): Unit ={\n",
    "    \n",
    "    } \n",
    "}*/\n",
    "\n",
    "def checkIfMultiple(num: Int): Any = {\n",
    "    if (num >= 0) num % 3 == 0 || num % 7 == 0 \n",
    "    else \"Choose a positive number!\" \n",
    "}\n",
    "\n",
    "println(checkIfMultiple(-9))\n",
    "println(checkIfMultiple(12))\n",
    "println(checkIfMultiple(14))\n",
    "println(checkIfMultiple(2))"
   ]
  },
  {
   "cell_type": "markdown",
   "metadata": {},
   "source": [
    "## Problem 12 (String ) -  Write a Scala program to create a new string taking the first 3 characters of a given string and return the string with the 3 characters added at both the front and back. If the given string length is less than 3, use whatever characters are there. \n",
    "\n",
    "\n",
    "\n",
    "\n"
   ]
  },
  {
   "cell_type": "code",
   "execution_count": 16,
   "metadata": {},
   "outputs": [
    {
     "name": "stdout",
     "output_type": "stream",
     "text": [
      "aaa\n",
      "AbAbAb\n",
      "AbcAbcDAbc\n"
     ]
    },
    {
     "data": {
      "text/plain": "makeNewString: (str: String)String\n"
     },
     "execution_count": 16,
     "metadata": {},
     "output_type": "execute_result"
    }
   ],
   "source": [
    "// Solution - Problem 12\n",
    "\n",
    "/* Paste the solution inside the object and use the main function to test the solutions.\n",
    "\n",
    "object Problem12 {\n",
    "    \n",
    "    \n",
    "    def main(args: Arry[String]): Unit ={\n",
    "    \n",
    "    } \n",
    "}\n",
    "\n",
    "*/\n",
    "\n",
    "// solution 1 - using .take(n)\n",
    "\n",
    "def makeNewString(str: String): String = {\n",
    "    val length: Int = str.length\n",
    "    if (length < 3) str*3 else str.take(3) + str +str.take(3)\n",
    "}\n",
    "\n",
    "\n",
    "println(makeNewString(\"a\"))\n",
    "println(makeNewString(\"Ab\"))\n",
    "println(makeNewString(\"AbcD\"))"
   ]
  },
  {
   "cell_type": "code",
   "execution_count": 15,
   "metadata": {},
   "outputs": [
    {
     "name": "stdout",
     "output_type": "stream",
     "text": [
      "aaa\n",
      "AbAbAb\n",
      "AbcAbcDAbc\n"
     ]
    },
    {
     "data": {
      "text/plain": "makeNewString: (str: String)String\n"
     },
     "execution_count": 15,
     "metadata": {},
     "output_type": "execute_result"
    }
   ],
   "source": [
    "//Solution 2 - using .substring(start,stop)\n",
    "def makeNewString(str: String): String = {\n",
    "    val length : Int = str.length\n",
    "    if (length < 3) str*3 else str.substring(0,3) + str + str.substring(0,3)\n",
    "}\n",
    "\n",
    "println(makeNewString(\"a\"))\n",
    "println(makeNewString(\"Ab\"))\n",
    "println(makeNewString(\"AbcD\"))"
   ]
  },
  {
   "cell_type": "markdown",
   "metadata": {},
   "source": [
    "## Problem 13 (String matching) - Write a Scala program to check whether a given string starts with 'Sc' or not. \n",
    "\n",
    "\n"
   ]
  },
  {
   "cell_type": "code",
   "execution_count": 14,
   "metadata": {},
   "outputs": [
    {
     "name": "stdout",
     "output_type": "stream",
     "text": [
      "false\n",
      "true\n"
     ]
    },
    {
     "data": {
      "text/plain": "chackPattern: (str: String)Boolean\n"
     },
     "execution_count": 14,
     "metadata": {},
     "output_type": "execute_result"
    }
   ],
   "source": [
    "// Solution - Problem 13\n",
    "\n",
    "/* Paste the solution inside the object and use the main function to test the solutions.\n",
    "\n",
    "object Problem13 {\n",
    "    \n",
    "    \n",
    "    def main(args: Arry[String]): Unit ={\n",
    "    \n",
    "    } \n",
    "}*/\n",
    "\n",
    "// Solition 1 -  using .take(n)\n",
    "def chackPattern(str: String): Boolean = {\n",
    "    str.take(2) == \"Sc\"\n",
    "}\n",
    "\n",
    "println(chackPattern(\"cala\"))\n",
    "println(chackPattern(\"Scala\"))\n"
   ]
  },
  {
   "cell_type": "code",
   "execution_count": 13,
   "metadata": {},
   "outputs": [
    {
     "name": "stdout",
     "output_type": "stream",
     "text": [
      "false\n",
      "true\n"
     ]
    },
    {
     "data": {
      "text/plain": "chackPattern: (str: String)Boolean\n"
     },
     "execution_count": 13,
     "metadata": {},
     "output_type": "execute_result"
    }
   ],
   "source": [
    "// Solution 2 - using .substring(start, stop)\n",
    "def chackPattern(str: String): Boolean = {\n",
    "    str.substring(0, 2) == \"Sc\" // remeber that .substring(start, stop) is non-inclusive on the 2nd argument.\n",
    "}\n",
    "\n",
    "println(chackPattern(\"cala\"))\n",
    "println(chackPattern(\"Scala\"))\n"
   ]
  },
  {
   "cell_type": "markdown",
   "metadata": {},
   "source": [
    "## Problem 14 (Number Comparisson) - Write a Scala program to check whether one of the given temperatures is less than 0 and the other is greater than 100. \n",
    "\n",
    "\n"
   ]
  },
  {
   "cell_type": "code",
   "execution_count": 15,
   "metadata": {},
   "outputs": [
    {
     "name": "stdout",
     "output_type": "stream",
     "text": [
      "true\n",
      "false\n",
      "true\n",
      "false\n"
     ]
    },
    {
     "data": {
      "text/plain": "compareTemps: (tempA: Int, tempB: Int)Boolean\n"
     },
     "execution_count": 15,
     "metadata": {},
     "output_type": "execute_result"
    }
   ],
   "source": [
    "// Solution - Problem 14\n",
    "\n",
    "/* Paste the solution inside the object and use the main function to test the solutions.\n",
    "\n",
    "object Problem14 {\n",
    "    \n",
    "    \n",
    "    def main(args: Arry[String]): Unit ={\n",
    "    \n",
    "    } \n",
    "}*/\n",
    "\n",
    "def compareTemps(tempA: Int, tempB: Int): Boolean = {\n",
    "    (tempA < 0 && tempB > 100) || (tempA > 100 && tempB < 0) \n",
    "}\n",
    "\n",
    "println(compareTemps(-1, 101))\n",
    "println(compareTemps(0, 101))\n",
    "println(compareTemps(102, -2))\n",
    "println(compareTemps(12, -2))"
   ]
  },
  {
   "cell_type": "markdown",
   "metadata": {},
   "source": [
    "## Problem 15 (Numbers in Range) -  Write a Scala program to check two given integers whether either of them is in the range 100..200 inclusive. \n",
    "\n",
    "\n"
   ]
  },
  {
   "cell_type": "code",
   "execution_count": 12,
   "metadata": {},
   "outputs": [
    {
     "name": "stdout",
     "output_type": "stream",
     "text": [
      "true\n",
      "false\n",
      "true\n",
      "true\n"
     ]
    },
    {
     "data": {
      "text/plain": "checkInRange: (numA: Int, numB: Int)Boolean\n"
     },
     "execution_count": 12,
     "metadata": {},
     "output_type": "execute_result"
    }
   ],
   "source": [
    "// Solution - Problem 15\n",
    "\n",
    "/* Paste the solution inside the object and use the main function to test the solutions.\n",
    "\n",
    "object Problem15 {\n",
    "    \n",
    "    \n",
    "    def main(args: Arry[String]): Unit ={\n",
    "    \n",
    "    } \n",
    "}*/\n",
    "\n",
    "// Soulution 1 - using (a to b)\n",
    "def checkInRange(numA: Int, numB: Int): Boolean = {\n",
    "   (100 to 200 contains numA) || (100 to 200 contains numB)\n",
    "}\n",
    "\n",
    "\n",
    "println(checkInRange(101, 2))\n",
    "println(checkInRange(1, 2))\n",
    "println(checkInRange(1, 200))\n",
    "println(checkInRange(1, 200))"
   ]
  },
  {
   "cell_type": "code",
   "execution_count": 11,
   "metadata": {},
   "outputs": [
    {
     "name": "stdout",
     "output_type": "stream",
     "text": [
      "true\n",
      "false\n",
      "true\n",
      "true\n"
     ]
    },
    {
     "data": {
      "text/plain": "checkInRange: (numA: Int, numB: Int)Boolean\n"
     },
     "execution_count": 11,
     "metadata": {},
     "output_type": "execute_result"
    }
   ],
   "source": [
    "// Solution 2 -  using (a until b) - note that until is non-inclusibe for b\n",
    "def checkInRange(numA: Int, numB: Int): Boolean = {\n",
    "    (100 until 201 contains numA) || (100 until 201 contains numB)\n",
    "}\n",
    "println(checkInRange(101, 2))\n",
    "println(checkInRange(1, 2))\n",
    "println(checkInRange(1, 200))\n",
    "println(checkInRange(1, 200))"
   ]
  },
  {
   "cell_type": "markdown",
   "metadata": {},
   "source": [
    "## Problem 16 (Numbers in Range) - Write a Scala program to check whether three given integer values are in the range 20..50 inclusive. Return true if 1 or more of them are in the said range otherwise false. \n",
    "\n",
    "\n"
   ]
  },
  {
   "cell_type": "code",
   "execution_count": 10,
   "metadata": {},
   "outputs": [
    {
     "name": "stdout",
     "output_type": "stream",
     "text": [
      "true\n",
      "true\n",
      "true\n",
      "true\n",
      "true\n",
      "true\n",
      "false\n"
     ]
    },
    {
     "data": {
      "text/plain": "checkInRange: (numA: Int, numB: Int, numC: Int)Boolean\n"
     },
     "execution_count": 10,
     "metadata": {},
     "output_type": "execute_result"
    }
   ],
   "source": [
    "// Solution - Problem 16\n",
    "\n",
    "/* Paste the solution inside the object and use the main function to test the solutions.\n",
    "\n",
    "object Problem16 {\n",
    "    \n",
    "    \n",
    "    def main(args: Arry[String]): Unit ={\n",
    "    \n",
    "    } \n",
    "}*/\n",
    "\n",
    "def checkInRange(numA: Int, numB: Int, numC: Int): Boolean = {\n",
    "    (20 to 50 contains numA) || (20 to 50 contains numB) || (20 to 50 contains numC) \n",
    "}\n",
    "\n",
    "println(checkInRange(21, 2, 3))\n",
    "println(checkInRange(1, 22, 3))\n",
    "println(checkInRange(1, 2, 23))\n",
    "println(checkInRange(50, 21, 3))\n",
    "println(checkInRange(0, 21, 30))\n",
    "println(checkInRange(50, 1, 30))\n",
    "println(checkInRange(1, 2, 3))"
   ]
  },
  {
   "cell_type": "markdown",
   "metadata": {},
   "source": [
    "## Problem 17 (Numbers in Range) - Write a Scala program to check whether two given integer values are in the range 20..50 inclusive. Return true if 1 or other is in the said range otherwise false.\n",
    "\n",
    "\n"
   ]
  },
  {
   "cell_type": "code",
   "execution_count": 43,
   "metadata": {},
   "outputs": [
    {
     "name": "stdout",
     "output_type": "stream",
     "text": [
      "true\n",
      "true\n",
      "true\n",
      "false\n"
     ]
    },
    {
     "data": {
      "text/plain": "checkInRange: (numA: Int, numB: Int)Boolean\n"
     },
     "execution_count": 43,
     "metadata": {},
     "output_type": "execute_result"
    }
   ],
   "source": [
    "// Solution - Problem 17\n",
    "\n",
    "/* Paste the solution inside the object and use the main function to test the solutions.\n",
    "\n",
    "object Problem17 {\n",
    "    \n",
    "    \n",
    "    def main(args: Arry[String]): Unit ={\n",
    "    \n",
    "    } \n",
    "}*/\n",
    "def checkInRange(numA: Int, numB: Int): Boolean = {\n",
    "    (20 to 50 contains numA) || (20 to 50 contains numB)\n",
    "}\n",
    "\n",
    "println(checkInRange(21, 2))\n",
    "println(checkInRange(50, 21))\n",
    "println(checkInRange(21, 30))\n",
    "println(checkInRange(52, 1))\n"
   ]
  },
  {
   "cell_type": "markdown",
   "metadata": {},
   "source": [
    "## Problem 18 (Substring check) - Write a Scala program to check whether a string 'yt' appears at index 1 in a given string. If it appears return a string without 'yt' otherwise return the original string. \n",
    "\n",
    "\n"
   ]
  },
  {
   "cell_type": "code",
   "execution_count": 7,
   "metadata": {},
   "outputs": [
    {
     "name": "stdout",
     "output_type": "stream",
     "text": [
      "Yadori\n",
      "Italy\n"
     ]
    },
    {
     "data": {
      "text/plain": "checkSubstring: (str: String)String\n"
     },
     "execution_count": 7,
     "metadata": {},
     "output_type": "execute_result"
    }
   ],
   "source": [
    "// Solution - Problem 18\n",
    "\n",
    "/* Paste the solution inside the object and use the main function to test the solutions.\n",
    "\n",
    "object Problem18 {\n",
    "    \n",
    "    \n",
    "    def main(args: Arry[String]): Unit ={\n",
    "    \n",
    "    } \n",
    "}*/ \n",
    "\n",
    "\n",
    "// Solution 1 - using cointains \n",
    "def checkSubstring(str: String): String = {\n",
    "    val dropFirstChar: String = str.drop(1)\n",
    "    if ((dropFirstChar contains \"yt\") && (dropFirstChar.take(2) == \"yt\")) str.replace(\"yt\", \"\") else str\n",
    "}\n",
    "\n",
    "\n",
    "\n",
    "println(checkSubstring(\"Yytadori\"))\n",
    "println(checkSubstring(\"Iyttaly\"))\n"
   ]
  },
  {
   "cell_type": "code",
   "execution_count": 8,
   "metadata": {},
   "outputs": [
    {
     "name": "stdout",
     "output_type": "stream",
     "text": [
      "Yadori\n",
      "Italy\n"
     ]
    },
    {
     "data": {
      "text/plain": "checkSubstring: (str: String)String\n"
     },
     "execution_count": 8,
     "metadata": {},
     "output_type": "execute_result"
    }
   ],
   "source": [
    "// Solution 2 - using .drop(n),  .startsWith(String) and .replace(st1, str2)\n",
    "def checkSubstring(str: String): String = {\n",
    "    if (str.drop(1).startsWith(\"yt\")) str.replace(\"yt\", \"\") else str\n",
    "}\n",
    "\n",
    "println(checkSubstring(\"Yytadori\"))\n",
    "println(checkSubstring(\"Iyttaly\"))\n"
   ]
  },
  {
   "cell_type": "markdown",
   "metadata": {},
   "source": [
    "## Problem 19 (Check Largest Number) - Write a Scala program to check the largest number among three given integers. "
   ]
  },
  {
   "cell_type": "code",
   "execution_count": 38,
   "metadata": {},
   "outputs": [
    {
     "name": "stdout",
     "output_type": "stream",
     "text": [
      "3\n",
      "-1\n",
      "10\n",
      "2\n",
      "10\n"
     ]
    },
    {
     "data": {
      "text/plain": "checkLargestNum: (x: Int, y: Int, z: Int)Int\n"
     },
     "execution_count": 38,
     "metadata": {},
     "output_type": "execute_result"
    }
   ],
   "source": [
    "// Solution - Problem 19\n",
    "\n",
    "/* Paste the solution inside the object and use the main function to test the solutions.\n",
    "\n",
    "object Problem19 {\n",
    "    \n",
    "    \n",
    "    def main(args: Arry[String]): Unit ={\n",
    "    \n",
    "    } \n",
    "}\n",
    "*/\n",
    "\n",
    "def checkLargestNum(x: Int, y: Int, z:Int ): Int = {\n",
    "    List(x, y, z).max\n",
    "}\n",
    "\n",
    "println(checkLargestNum(1,2,3))\n",
    "println(checkLargestNum(-1,-2,-3))\n",
    "println(checkLargestNum(10,2,3))\n",
    "println(checkLargestNum(2,2,1))\n",
    "println(checkLargestNum(10,10,1))"
   ]
  },
  {
   "cell_type": "markdown",
   "metadata": {},
   "source": [
    "## Problem 20 (Check if Numbers is Close) - Write a Scala program to check which number is nearest to the value 100 among two given integers. Return 0 if the two numbers are equal."
   ]
  },
  {
   "cell_type": "code",
   "execution_count": 41,
   "metadata": {},
   "outputs": [
    {
     "name": "stdout",
     "output_type": "stream",
     "text": [
      "99\n",
      "32\n",
      "0\n"
     ]
    },
    {
     "data": {
      "text/plain": "nearestTo100: (num1: Int, num2: Int)Int\n"
     },
     "execution_count": 41,
     "metadata": {},
     "output_type": "execute_result"
    }
   ],
   "source": [
    "// Solution - Problem 20\n",
    "\n",
    "/* Paste the solution inside the object and use the main function to test the solutions.\n",
    "\n",
    "object Problem20 {\n",
    "    \n",
    "    \n",
    "    def main(args: Arry[String]): Unit ={\n",
    "    \n",
    "    } \n",
    "}*/\n",
    "\n",
    "def nearestTo100(num1: Int, num2: Int): Int = {\n",
    "    if (Math.abs(100 - num1) < Math.abs(100 - num2)) num1 \n",
    "    else if (Math.abs(100 - num1) > Math.abs(100 - num2)) num2\n",
    "    else 0\n",
    "\n",
    "\n",
    "}\n",
    "println(nearestTo100(10, 99))\n",
    "println(nearestTo100(32, 2))\n",
    "println(nearestTo100(7, 7))"
   ]
  },
  {
   "cell_type": "markdown",
   "metadata": {},
   "source": [
    "## Problem 21 (Check if Numbers in Range) - Write a Scala program to check whether two given integers are in the range 40..50 inclusive, or they are both in the range 50..60 inclusive. \n",
    "\n",
    "\n"
   ]
  },
  {
   "cell_type": "code",
   "execution_count": 1,
   "metadata": {},
   "outputs": [
    {
     "data": {
      "text/plain": "Intitializing Scala interpreter ..."
     },
     "metadata": {},
     "output_type": "display_data"
    },
    {
     "data": {
      "text/plain": "Spark Web UI available at http://192.168.8.150:4040\nSparkContext available as 'sc' (version = 3.0.1, master = local[*], app id = local-1611060718768)\nSparkSession available as 'spark'\n"
     },
     "metadata": {},
     "output_type": "display_data"
    },
    {
     "name": "stdout",
     "output_type": "stream",
     "text": [
      "false\n",
      "false\n",
      "false\n",
      "false\n",
      "false\n",
      "true\n",
      "false\n",
      "true\n"
     ]
    },
    {
     "data": {
      "text/plain": "checkNumsInRange: (num1: Int, num2: Int)Boolean\n"
     },
     "execution_count": 1,
     "metadata": {},
     "output_type": "execute_result"
    }
   ],
   "source": [
    "// Solution - Problem 21\n",
    "\n",
    "/* Paste the solution inside the object and use the main function to test the solutions.\n",
    "\n",
    "object Problem21 {\n",
    "    \n",
    "    \n",
    "    def main(args: Arry[String]): Unit ={\n",
    "    \n",
    "    } \n",
    "}*/\n",
    "\n",
    "// Solution 1 - using \"to\" keyword\n",
    " def checkNumsInRange(num1: Int, num2: Int): Boolean = {\n",
    "    ((40 to 50 contains num1) && (40 to 50 contains num2)) || ((50 to 60 contains num1) && (50 to 60 contains num2))\n",
    "}\n",
    "\n",
    "println(checkNumsInRange(1, 2))\n",
    "println(checkNumsInRange(41, 3))\n",
    "println(checkNumsInRange(1, 43))\n",
    "println(checkNumsInRange(51, 2))\n",
    "println(checkNumsInRange(1, 53))\n",
    "println(checkNumsInRange(41, 43))\n",
    "println(checkNumsInRange(43, 59))\n",
    "println(checkNumsInRange(54, 55))"
   ]
  },
  {
   "cell_type": "code",
   "execution_count": 2,
   "metadata": {},
   "outputs": [
    {
     "name": "stdout",
     "output_type": "stream",
     "text": [
      "false\n",
      "false\n",
      "false\n",
      "false\n",
      "false\n",
      "true\n",
      "false\n",
      "true\n"
     ]
    },
    {
     "data": {
      "text/plain": "checkNumsInRange: (num1: Int, num2: Int)Boolean\n"
     },
     "execution_count": 2,
     "metadata": {},
     "output_type": "execute_result"
    }
   ],
   "source": [
    "// Solution 2 - using List() and .forall()   \n",
    "def checkNumsInRange(num1: Int, num2: Int): Boolean = {\n",
    "    (List(num1, num2).forall(x => 40 to 50 contains x)) || (List(num1, num2).forall(x => 50 to 60 contains x))\n",
    "}\n",
    "\n",
    "println(checkNumsInRange(1, 2))\n",
    "println(checkNumsInRange(41, 3))\n",
    "println(checkNumsInRange(1, 43))\n",
    "println(checkNumsInRange(51, 2))\n",
    "println(checkNumsInRange(1, 53))\n",
    "println(checkNumsInRange(41, 43))\n",
    "println(checkNumsInRange(43, 59))\n",
    "println(checkNumsInRange(54, 55))"
   ]
  },
  {
   "cell_type": "markdown",
   "metadata": {},
   "source": [
    "## Problem 22 (Check if Numbers in Range) -  Write a Scala program to find the larger value from two positive integer values in the range 20..30 inclusive, or return 0 if neither is in that range. "
   ]
  },
  {
   "cell_type": "code",
   "execution_count": 23,
   "metadata": {},
   "outputs": [
    {
     "name": "stdout",
     "output_type": "stream",
     "text": [
      "30\n",
      "0\n",
      "0\n",
      "0\n"
     ]
    },
    {
     "data": {
      "text/plain": "checkNumsInRange: (num1: Int, num2: Int)Int\n"
     },
     "execution_count": 23,
     "metadata": {},
     "output_type": "execute_result"
    }
   ],
   "source": [
    "// Solution - Problem 22\n",
    "\n",
    "/* Paste the solution inside the object and use the main function to test the solutions.\n",
    "\n",
    "object Problem22 {\n",
    "    \n",
    "    \n",
    "    def main(args: Arry[String]): Unit ={\n",
    "    \n",
    "    } \n",
    "}*/\n",
    "\n",
    "\n",
    "def checkNumsInRange(num1: Int, num2: Int): Int = {\n",
    "    if ((20 to 30 contains num1) && (20 to 30 contains num2)) List(num1, num2).max\n",
    "    else 0\n",
    "}\n",
    "\n",
    "println(checkNumsInRange(30, 22))\n",
    "println(checkNumsInRange(3, 22))\n",
    "println(checkNumsInRange(23, 2))\n",
    "println(checkNumsInRange(3, 2))\n"
   ]
  },
  {
   "cell_type": "markdown",
   "metadata": {},
   "source": [
    "## Problem 23 (Counting a char in a string) -  Write a Scala program to check whether a given character presents in a string between 2 to 4 times. "
   ]
  },
  {
   "cell_type": "code",
   "execution_count": 10,
   "metadata": {},
   "outputs": [
    {
     "name": "stdout",
     "output_type": "stream",
     "text": [
      "false\n",
      "true\n",
      "true\n",
      "true\n",
      "true\n",
      "false\n"
     ]
    },
    {
     "data": {
      "text/plain": "countingChar: (str: String, myChar: Char)Boolean\n"
     },
     "execution_count": 10,
     "metadata": {},
     "output_type": "execute_result"
    }
   ],
   "source": [
    "// Solution - Problem 23\n",
    "\n",
    "/* Paste the solution inside the object and use the main function to test the solutions.\n",
    "\n",
    "object Problem23 {\n",
    "    \n",
    "    \n",
    "    def main(args: Arry[String]): Unit ={\n",
    "    \n",
    "    } \n",
    "}*/\n",
    "\n",
    "// Solution - using .count(_ == char)\n",
    "def countingChar(str: String, myChar: Char): Boolean = {\n",
    "    2 to 4 contains str.count(_ == myChar)\n",
    "}\n",
    "\n",
    "\n",
    "println(countingChar(\"a\", 'a'))\n",
    "println(countingChar(\"aa\", 'a'))\n",
    "println(countingChar(\"100\", '0'))\n",
    "println(countingChar(\"1000\", '0'))\n",
    "println(countingChar(\"10000\", '0'))\n",
    "println(countingChar(\"001000\", '0'))\n",
    "\n"
   ]
  },
  {
   "cell_type": "markdown",
   "metadata": {},
   "source": [
    "## Problem 24 (Comparing Ints) -  Write a Scala program to check whether two given positive integers have the same last digit. "
   ]
  },
  {
   "cell_type": "code",
   "execution_count": 4,
   "metadata": {},
   "outputs": [
    {
     "name": "stdout",
     "output_type": "stream",
     "text": [
      "false\n",
      "true\n",
      "true\n"
     ]
    },
    {
     "data": {
      "text/plain": "compareIntDigits: (num1: Int, num2: Int)Boolean\n"
     },
     "execution_count": 4,
     "metadata": {},
     "output_type": "execute_result"
    }
   ],
   "source": [
    "// Solution - Problem 24\n",
    "\n",
    "/* Paste the solution inside the object and use the main function to test the solutions.\n",
    "\n",
    "object Problem24 {\n",
    "    \n",
    "    \n",
    "    def main(args: Arry[String]): Unit ={\n",
    "    \n",
    "    } \n",
    "}*/\n",
    "\n",
    "// solution 1 - using toString()\n",
    "def compareIntDigits(num1: Int, num2: Int): Boolean ={\n",
    "    val str1: String = num1.toString\n",
    "    val str2: String = num2.toString\n",
    "\n",
    "    str1(str1.length - 1) == str2(str2.length - 1)\n",
    "}\n",
    "\n",
    "\n",
    "println(compareIntDigits(34, 6))\n",
    "println(compareIntDigits(131, 101))\n",
    "println(compareIntDigits(34535436, 6))"
   ]
  },
  {
   "cell_type": "code",
   "execution_count": 3,
   "metadata": {},
   "outputs": [
    {
     "name": "stdout",
     "output_type": "stream",
     "text": [
      "false\n",
      "true\n",
      "true\n"
     ]
    },
    {
     "data": {
      "text/plain": "compareIntDigits: (num1: Int, num2: Int)Boolean\n"
     },
     "execution_count": 3,
     "metadata": {},
     "output_type": "execute_result"
    }
   ],
   "source": [
    "// solution 2 - using \"%\" operator \n",
    "def compareIntDigits(num1: Int, num2: Int): Boolean ={\n",
    "    num1 % 10 == num2 % 10 \n",
    "}\n",
    "\n",
    "\n",
    "println(compareIntDigits(34, 6))\n",
    "println(compareIntDigits(131, 101))\n",
    "println(compareIntDigits(34535436, 6))"
   ]
  },
  {
   "cell_type": "markdown",
   "metadata": {},
   "source": [
    "## Problem 25 (String manipulation) -  Write a Scala program to convert the last 4 characters of a given string in upper case. If the length of the string has less than 4 then uppercase all the characters."
   ]
  },
  {
   "cell_type": "code",
   "execution_count": 6,
   "metadata": {},
   "outputs": [
    {
     "name": "stdout",
     "output_type": "stream",
     "text": [
      "AB\n",
      "ABC\n",
      "ABCD\n",
      "abCDEF\n",
      "abcdefgHIJK\n"
     ]
    },
    {
     "data": {
      "text/plain": "upperCaseLast4char: (str: String)String\n"
     },
     "execution_count": 6,
     "metadata": {},
     "output_type": "execute_result"
    }
   ],
   "source": [
    "// Solution - Problem 25\n",
    "\n",
    "/* Paste the solution inside the object and use the main function to test the solutions.\n",
    "\n",
    "object Problem25 {\n",
    "    \n",
    "    \n",
    "    def main(args: Arry[String]): Unit ={\n",
    "    \n",
    "    } \n",
    "}*/\n",
    "\n",
    "// solution 1 - usind .drop(n) and .take(n)\n",
    "def upperCaseLast4char(str: String): String = {\n",
    "    str.take(str.length() - 4) + str.drop(str.length() -4).toUpperCase()\n",
    "}\n",
    "\n",
    "\n",
    "\n",
    "println(upperCaseLast4char(\"ab\"))\n",
    "println(upperCaseLast4char(\"abc\"))\n",
    "println(upperCaseLast4char(\"abcd\"))\n",
    "println(upperCaseLast4char(\"abcdef\"))\n",
    "println(upperCaseLast4char(\"abcdefghijk\"))\n"
   ]
  },
  {
   "cell_type": "code",
   "execution_count": 5,
   "metadata": {},
   "outputs": [
    {
     "name": "stdout",
     "output_type": "stream",
     "text": [
      "AB\n",
      "ABC\n",
      "ABCD\n",
      "abCDEF\n",
      "abcdefgHIJK\n"
     ]
    },
    {
     "data": {
      "text/plain": "upperCaseLast4char: (str1: String)String\n"
     },
     "execution_count": 5,
     "metadata": {},
     "output_type": "execute_result"
    }
   ],
   "source": [
    "// solution 2 - using .takeRight(n) and .dropRight(n)\n",
    "def upperCaseLast4char(str1: String): String = {\n",
    "    str1.dropRight(4) + str1.takeRight(4).toUpperCase()\n",
    "    \n",
    "}\n",
    "\n",
    "println(upperCaseLast4char(\"ab\"))\n",
    "println(upperCaseLast4char(\"abc\"))\n",
    "println(upperCaseLast4char(\"abcd\"))\n",
    "println(upperCaseLast4char(\"abcdef\"))\n",
    "println(upperCaseLast4char(\"abcdefghijk\"))\n"
   ]
  },
  {
   "cell_type": "markdown",
   "metadata": {},
   "source": [
    "## Problem 26 (Copy of String) - Write a Scala program to create a new string which is n (non-negative integer) copies of a given string."
   ]
  },
  {
   "cell_type": "code",
   "execution_count": 79,
   "metadata": {},
   "outputs": [
    {
     "name": "stdout",
     "output_type": "stream",
     "text": [
      "AbAbAb\n",
      "9s2B9s2B\n"
     ]
    },
    {
     "data": {
      "text/plain": "copyStringNtimes: (str: String, num: Int)String\n"
     },
     "execution_count": 79,
     "metadata": {},
     "output_type": "execute_result"
    }
   ],
   "source": [
    "// Solution - Problem 26\n",
    "\n",
    "/* Paste the solution inside the object and use the main function to test the solutions.\n",
    "\n",
    "object Problem26 {\n",
    "    \n",
    "    \n",
    "    def main(args: Arry[String]): Unit ={\n",
    "    \n",
    "    } \n",
    "}*/\n",
    "\n",
    "def copyStringNtimes(str: String, num: Int): String = {\n",
    "    str*num\n",
    "}\n",
    "\n",
    "println(copyStringNtimes(\"Ab\", 3))\n",
    "println(copyStringNtimes(\"9s2B\", 2))"
   ]
  }
 ],
 "metadata": {
  "kernelspec": {
   "display_name": "spylon-kernel",
   "language": "scala",
   "name": "spylon-kernel"
  },
  "language_info": {
   "codemirror_mode": "text/x-scala",
   "file_extension": ".scala",
   "help_links": [
    {
     "text": "MetaKernel Magics",
     "url": "https://metakernel.readthedocs.io/en/latest/source/README.html"
    }
   ],
   "mimetype": "text/x-scala",
   "name": "scala",
   "pygments_lexer": "scala",
   "version": "0.4.1"
  },
  "orig_nbformat": 2
 },
 "nbformat": 4,
 "nbformat_minor": 2
}